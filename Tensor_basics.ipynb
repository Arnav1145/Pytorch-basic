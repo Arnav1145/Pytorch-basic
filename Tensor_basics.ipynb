{
 "cells": [
  {
   "cell_type": "markdown",
   "id": "91c0e96f-6502-4e3e-aca1-fcd938e9a012",
   "metadata": {},
   "source": [
    "## Pytorch\n",
    "\n",
    "#### Tensor basics\n",
    "\n",
    "A tensor is a generalization of vectors and matrices and is easily understood as a multidimensional array.It is a term and set of techniques known in machine learning in the training and operation of deep learning models can be described in terms of tensors. In many cases tensors are used as a replacement for NumPy to use the power of GPUs.\n",
    "\n",
    "Tensors are a type of data structure used in linear algebra, and like vectors and matrices, you can calculate arithmetic operations with tensors."
   ]
  },
  {
   "cell_type": "code",
   "execution_count": 1,
   "id": "0bef4b18-bb95-45e9-9789-275ca14b33dd",
   "metadata": {},
   "outputs": [],
   "source": [
    "import torch"
   ]
  },
  {
   "cell_type": "code",
   "execution_count": 2,
   "id": "e2b57ae0-f1d7-4217-a6e8-64c81a2bd304",
   "metadata": {},
   "outputs": [
    {
     "data": {
      "text/plain": [
       "'2.2.1+cu121'"
      ]
     },
     "execution_count": 2,
     "metadata": {},
     "output_type": "execute_result"
    }
   ],
   "source": [
    "torch.__version__"
   ]
  },
  {
   "cell_type": "code",
   "execution_count": 3,
   "id": "de4cde07-2349-4429-aa83-3a0ecf34fccf",
   "metadata": {},
   "outputs": [],
   "source": [
    "import numpy as np"
   ]
  },
  {
   "cell_type": "code",
   "execution_count": 4,
   "id": "9443e4d9-489d-448d-88a0-a28af0ea2d69",
   "metadata": {},
   "outputs": [],
   "source": [
    "lst = [3,4,5,6]\n",
    "arr = np.array(lst)"
   ]
  },
  {
   "cell_type": "code",
   "execution_count": 5,
   "id": "6015591a-a685-44ff-a223-4b3f7198e2d2",
   "metadata": {},
   "outputs": [
    {
     "data": {
      "text/plain": [
       "array([3, 4, 5, 6])"
      ]
     },
     "execution_count": 5,
     "metadata": {},
     "output_type": "execute_result"
    }
   ],
   "source": [
    "arr"
   ]
  },
  {
   "cell_type": "code",
   "execution_count": 6,
   "id": "26271a50-3c9c-44a3-afbd-040be7a4b8cc",
   "metadata": {},
   "outputs": [
    {
     "data": {
      "text/plain": [
       "dtype('int32')"
      ]
     },
     "execution_count": 6,
     "metadata": {},
     "output_type": "execute_result"
    }
   ],
   "source": [
    "arr.dtype"
   ]
  },
  {
   "cell_type": "code",
   "execution_count": 7,
   "id": "8393b7ad-6ae6-4a99-8974-1325d77c1aeb",
   "metadata": {},
   "outputs": [],
   "source": [
    "#Convert Numpy to pytorch tensors"
   ]
  },
  {
   "cell_type": "code",
   "execution_count": 9,
   "id": "3505e6f8-cdbd-4334-b101-63bcc8527fe5",
   "metadata": {},
   "outputs": [
    {
     "data": {
      "text/plain": [
       "tensor([3, 4, 5, 6], dtype=torch.int32)"
      ]
     },
     "execution_count": 9,
     "metadata": {},
     "output_type": "execute_result"
    }
   ],
   "source": [
    "tensors = torch.from_numpy(arr)\n",
    "tensors"
   ]
  },
  {
   "cell_type": "code",
   "execution_count": 10,
   "id": "abb0b920-765b-436e-9738-05320387170c",
   "metadata": {},
   "outputs": [
    {
     "data": {
      "text/plain": [
       "tensor([3, 4], dtype=torch.int32)"
      ]
     },
     "execution_count": 10,
     "metadata": {},
     "output_type": "execute_result"
    }
   ],
   "source": [
    "#### Indexing similar to numpy\n",
    "tensors[:2]"
   ]
  },
  {
   "cell_type": "code",
   "execution_count": 11,
   "id": "6f720fe2-69c5-491b-8fec-6755ba7181eb",
   "metadata": {},
   "outputs": [
    {
     "data": {
      "text/plain": [
       "tensor([4, 5, 6], dtype=torch.int32)"
      ]
     },
     "execution_count": 11,
     "metadata": {},
     "output_type": "execute_result"
    }
   ],
   "source": [
    "tensors[1:4]"
   ]
  },
  {
   "cell_type": "code",
   "execution_count": 12,
   "id": "d52ed50f-20c6-455a-ac8f-0162c09151ea",
   "metadata": {},
   "outputs": [],
   "source": [
    "### Disadavantage of from_numpy. The array and tesors uses the same memory location\n",
    "\n",
    "tensors[3] = 100"
   ]
  },
  {
   "cell_type": "code",
   "execution_count": 13,
   "id": "d3772f77-369f-4bd2-81a5-ca92ed7f22d9",
   "metadata": {},
   "outputs": [
    {
     "data": {
      "text/plain": [
       "tensor([  3,   4,   5, 100], dtype=torch.int32)"
      ]
     },
     "execution_count": 13,
     "metadata": {},
     "output_type": "execute_result"
    }
   ],
   "source": [
    "tensors"
   ]
  },
  {
   "cell_type": "code",
   "execution_count": 15,
   "id": "9d16f543-c2af-4229-ac64-bbdfd3582f2a",
   "metadata": {},
   "outputs": [
    {
     "data": {
      "text/plain": [
       "array([  3,   4,   5, 100])"
      ]
     },
     "execution_count": 15,
     "metadata": {},
     "output_type": "execute_result"
    }
   ],
   "source": [
    "arr # numpy array is also changed as they share the same memory"
   ]
  },
  {
   "cell_type": "code",
   "execution_count": 16,
   "id": "8f957dc5-d7ca-40c7-b3cb-bfb9d997a75d",
   "metadata": {},
   "outputs": [
    {
     "data": {
      "text/plain": [
       "tensor([  3,   4,   5, 100], dtype=torch.int32)"
      ]
     },
     "execution_count": 16,
     "metadata": {},
     "output_type": "execute_result"
    }
   ],
   "source": [
    "tensor_arr = torch.tensor(arr)\n",
    "tensor_arr"
   ]
  },
  {
   "cell_type": "code",
   "execution_count": 18,
   "id": "93694927-20cd-4d88-91c6-8839a7dca354",
   "metadata": {},
   "outputs": [
    {
     "name": "stdout",
     "output_type": "stream",
     "text": [
      "tensor([  3,   4,   5, 120], dtype=torch.int32)\n",
      "[  3   4   5 100]\n"
     ]
    }
   ],
   "source": [
    "tensor_arr[3] = 120\n",
    "print(tensor_arr)\n",
    "print(arr)"
   ]
  },
  {
   "cell_type": "code",
   "execution_count": 21,
   "id": "cfaa4562-4e35-4721-be63-0fbb42190381",
   "metadata": {},
   "outputs": [
    {
     "data": {
      "text/plain": [
       "tensor([[0., 0., 0.],\n",
       "        [0., 0., 0.]], dtype=torch.float64)"
      ]
     },
     "execution_count": 21,
     "metadata": {},
     "output_type": "execute_result"
    }
   ],
   "source": [
    "## zeros and ones\n",
    "torch.zeros(2,3, dtype = torch.float64)"
   ]
  },
  {
   "cell_type": "code",
   "execution_count": 22,
   "id": "0bcfac57-db06-405b-9604-69fd3511b98d",
   "metadata": {},
   "outputs": [
    {
     "data": {
      "text/plain": [
       "tensor([[1., 1., 1.],\n",
       "        [1., 1., 1.]], dtype=torch.float64)"
      ]
     },
     "execution_count": 22,
     "metadata": {},
     "output_type": "execute_result"
    }
   ],
   "source": [
    "torch.ones(2,3, dtype = torch.float64)"
   ]
  },
  {
   "cell_type": "code",
   "execution_count": 27,
   "id": "427d1d1f-c7c3-4b8e-b9ba-4fec664f2093",
   "metadata": {},
   "outputs": [
    {
     "data": {
      "text/plain": [
       "tensor([[ 0,  1,  2],\n",
       "        [ 3,  4,  5],\n",
       "        [ 6,  7,  8],\n",
       "        [ 9, 10, 11],\n",
       "        [12, 13, 14]], dtype=torch.int32)"
      ]
     },
     "execution_count": 27,
     "metadata": {},
     "output_type": "execute_result"
    }
   ],
   "source": [
    "a = torch.tensor(np.arange(0,15).reshape(5,3))\n",
    "a"
   ]
  },
  {
   "cell_type": "code",
   "execution_count": 33,
   "id": "e32eda7c-25d4-4a1f-a25d-574538a91b5a",
   "metadata": {},
   "outputs": [
    {
     "data": {
      "text/plain": [
       "tensor([[0, 1],\n",
       "        [3, 4]], dtype=torch.int32)"
      ]
     },
     "execution_count": 33,
     "metadata": {},
     "output_type": "execute_result"
    }
   ],
   "source": [
    "a[0:2,0:2]"
   ]
  },
  {
   "cell_type": "markdown",
   "id": "673156bf-843d-4920-a615-d5575ce03a8e",
   "metadata": {},
   "source": [
    "#### Arithemetic operations"
   ]
  },
  {
   "cell_type": "code",
   "execution_count": 35,
   "id": "b599a60a-ec8d-4604-a3dd-52ee3f50b310",
   "metadata": {},
   "outputs": [
    {
     "name": "stdout",
     "output_type": "stream",
     "text": [
      "tensor([ 7.,  9., 11.])\n"
     ]
    }
   ],
   "source": [
    "a = torch.tensor([3,4,5], dtype = torch.float)\n",
    "b = torch.tensor([4,5,6], dtype = torch.float)\n",
    "print(a + b)"
   ]
  },
  {
   "cell_type": "code",
   "execution_count": 36,
   "id": "741b23b6-ebe8-421d-8b3a-b251594717f4",
   "metadata": {},
   "outputs": [
    {
     "data": {
      "text/plain": [
       "tensor([ 7.,  9., 11.])"
      ]
     },
     "execution_count": 36,
     "metadata": {},
     "output_type": "execute_result"
    }
   ],
   "source": [
    "torch.add(a,b)"
   ]
  },
  {
   "cell_type": "code",
   "execution_count": 38,
   "id": "771e7b45-8b0e-4cf8-beb3-0e6233c57dd8",
   "metadata": {},
   "outputs": [
    {
     "data": {
      "text/plain": [
       "tensor([0., 0., 0.])"
      ]
     },
     "execution_count": 38,
     "metadata": {},
     "output_type": "execute_result"
    }
   ],
   "source": [
    "c = torch.zeros(3)\n",
    "c"
   ]
  },
  {
   "cell_type": "code",
   "execution_count": 40,
   "id": "597d2c99-8e06-45b4-84d2-654485ffd02f",
   "metadata": {},
   "outputs": [
    {
     "data": {
      "text/plain": [
       "tensor([ 7.,  9., 11.])"
      ]
     },
     "execution_count": 40,
     "metadata": {},
     "output_type": "execute_result"
    }
   ],
   "source": [
    "torch.add(a,b, out = c) # performing operation and storing in the some other variable\n",
    "#shape of the output variable should be same"
   ]
  },
  {
   "cell_type": "code",
   "execution_count": 41,
   "id": "14c2c55a-e65f-46ff-8307-2b5d5cc436be",
   "metadata": {},
   "outputs": [
    {
     "data": {
      "text/plain": [
       "tensor([ 7.,  9., 11.])"
      ]
     },
     "execution_count": 41,
     "metadata": {},
     "output_type": "execute_result"
    }
   ],
   "source": [
    "c"
   ]
  },
  {
   "cell_type": "code",
   "execution_count": 42,
   "id": "5ce0fa5d-02a6-4872-b2d6-c8afbee2b477",
   "metadata": {},
   "outputs": [
    {
     "data": {
      "text/plain": [
       "tensor(27.)"
      ]
     },
     "execution_count": 42,
     "metadata": {},
     "output_type": "execute_result"
    }
   ],
   "source": [
    "torch.add(a,b).sum()"
   ]
  },
  {
   "cell_type": "markdown",
   "id": "2c7c16fb-4685-47cb-a407-6141bb0680c7",
   "metadata": {},
   "source": [
    "#### Dot product and multi operations"
   ]
  },
  {
   "cell_type": "code",
   "execution_count": 43,
   "id": "806bac84-d6c0-4b21-a6bb-fb56a197275b",
   "metadata": {},
   "outputs": [],
   "source": [
    "x = torch.tensor([3,4,5], dtype = torch.float)\n",
    "y = torch.tensor([4,5,6], dtype = torch.float)"
   ]
  },
  {
   "cell_type": "code",
   "execution_count": 45,
   "id": "0775534f-bcdc-48a5-a1f7-29d9b4000357",
   "metadata": {},
   "outputs": [
    {
     "data": {
      "text/plain": [
       "tensor([12., 20., 30.])"
      ]
     },
     "execution_count": 45,
     "metadata": {},
     "output_type": "execute_result"
    }
   ],
   "source": [
    "x.mul(y) #simple multiplication"
   ]
  },
  {
   "cell_type": "code",
   "execution_count": 47,
   "id": "df14e4bb-b423-4926-aa51-eebd60125656",
   "metadata": {},
   "outputs": [
    {
     "data": {
      "text/plain": [
       "tensor(62.)"
      ]
     },
     "execution_count": 47,
     "metadata": {},
     "output_type": "execute_result"
    }
   ],
   "source": [
    "x.dot(y) #3*4 + 4*5 + 5*6"
   ]
  },
  {
   "cell_type": "code",
   "execution_count": null,
   "id": "d0c47fee-80fb-45e0-8730-feac2d26abd3",
   "metadata": {},
   "outputs": [],
   "source": [
    "#### Matrix multiplication"
   ]
  },
  {
   "cell_type": "code",
   "execution_count": 49,
   "id": "8c444b33-0676-4893-af82-c82f2de44ed1",
   "metadata": {},
   "outputs": [],
   "source": [
    "x = torch.tensor([[1,4,2], [1,5,5]], dtype = torch.float)\n",
    "y = torch.tensor([[5,7], [8,6], [9,11]], dtype = torch.float)"
   ]
  },
  {
   "cell_type": "code",
   "execution_count": 50,
   "id": "59e87d83-6215-4287-80a4-c06e9fc29869",
   "metadata": {},
   "outputs": [
    {
     "data": {
      "text/plain": [
       "tensor([[55., 53.],\n",
       "        [90., 92.]])"
      ]
     },
     "execution_count": 50,
     "metadata": {},
     "output_type": "execute_result"
    }
   ],
   "source": [
    "torch.matmul(x,y) "
   ]
  },
  {
   "cell_type": "code",
   "execution_count": 54,
   "id": "14e7826b-81c1-4674-8b04-19088c1ee2e5",
   "metadata": {},
   "outputs": [
    {
     "data": {
      "text/plain": [
       "tensor([[55., 53.],\n",
       "        [90., 92.]])"
      ]
     },
     "execution_count": 54,
     "metadata": {},
     "output_type": "execute_result"
    }
   ],
   "source": [
    "torch.mm(x,y) #similar to above matrix multiplication"
   ]
  },
  {
   "cell_type": "code",
   "execution_count": 53,
   "id": "fed4c9c5-714f-4299-9872-961572ee82e8",
   "metadata": {},
   "outputs": [
    {
     "data": {
      "text/plain": [
       "tensor([[55., 53.],\n",
       "        [90., 92.]])"
      ]
     },
     "execution_count": 53,
     "metadata": {},
     "output_type": "execute_result"
    }
   ],
   "source": [
    "x@y #similar to above matrix multiplication"
   ]
  },
  {
   "cell_type": "code",
   "execution_count": null,
   "id": "7fdc240f-2504-4e64-a83a-1b485ec56425",
   "metadata": {},
   "outputs": [],
   "source": []
  }
 ],
 "metadata": {
  "kernelspec": {
   "display_name": "Python 3 (ipykernel)",
   "language": "python",
   "name": "python3"
  },
  "language_info": {
   "codemirror_mode": {
    "name": "ipython",
    "version": 3
   },
   "file_extension": ".py",
   "mimetype": "text/x-python",
   "name": "python",
   "nbconvert_exporter": "python",
   "pygments_lexer": "ipython3",
   "version": "3.9.13"
  }
 },
 "nbformat": 4,
 "nbformat_minor": 5
}
