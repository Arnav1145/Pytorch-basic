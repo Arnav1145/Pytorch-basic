{
 "cells": [
  {
   "cell_type": "markdown",
   "id": "f8bea959-ac7d-4f16-8e0d-7dad40fef5cd",
   "metadata": {},
   "source": [
    "### Back Propogation using Pytorch\n",
    "\n",
    "y = x^2"
   ]
  },
  {
   "cell_type": "code",
   "execution_count": 11,
   "id": "0b244cf1-d159-4e93-b161-bf1a3eb9d831",
   "metadata": {},
   "outputs": [],
   "source": [
    "import torch"
   ]
  },
  {
   "cell_type": "code",
   "execution_count": 12,
   "id": "322adedb-a0c8-4abf-aaf6-21652585369c",
   "metadata": {},
   "outputs": [],
   "source": [
    "x = torch.tensor(4.0, requires_grad = True)"
   ]
  },
  {
   "cell_type": "code",
   "execution_count": 13,
   "id": "02b22ba4-80f6-4ecb-a056-879b43a2c6c2",
   "metadata": {},
   "outputs": [
    {
     "data": {
      "text/plain": [
       "tensor(4., requires_grad=True)"
      ]
     },
     "execution_count": 13,
     "metadata": {},
     "output_type": "execute_result"
    }
   ],
   "source": [
    "x"
   ]
  },
  {
   "cell_type": "code",
   "execution_count": 14,
   "id": "2f92c164-99b1-4169-a99d-1a17f77c6eec",
   "metadata": {},
   "outputs": [
    {
     "data": {
      "text/plain": [
       "tensor(16., grad_fn=<PowBackward0>)"
      ]
     },
     "execution_count": 14,
     "metadata": {},
     "output_type": "execute_result"
    }
   ],
   "source": [
    "y = x**2\n",
    "y"
   ]
  },
  {
   "cell_type": "code",
   "execution_count": 15,
   "id": "622fc953-af61-4ef3-995c-d6e70b37e9a9",
   "metadata": {},
   "outputs": [],
   "source": [
    "### Back Propogation y = 2*x\n",
    "\n",
    "y.backward() #Computes the gradient of current tensor wrt graph leaves."
   ]
  },
  {
   "cell_type": "code",
   "execution_count": 16,
   "id": "053d8458-bb71-47d5-9615-e160178ede57",
   "metadata": {},
   "outputs": [
    {
     "name": "stdout",
     "output_type": "stream",
     "text": [
      "tensor(8.)\n"
     ]
    }
   ],
   "source": [
    "print(x.grad)"
   ]
  },
  {
   "cell_type": "code",
   "execution_count": 18,
   "id": "ed245185-116d-4c91-a14e-9cca5511248c",
   "metadata": {},
   "outputs": [],
   "source": [
    "lst = [[2.0,3.0,1.0], [4.,5.,3.],[7.,6.,4.]]\n",
    "torch_input = torch.tensor(lst, requires_grad = True)"
   ]
  },
  {
   "cell_type": "code",
   "execution_count": 19,
   "id": "fac6bc23-0088-49ef-a53f-649057620cea",
   "metadata": {},
   "outputs": [
    {
     "data": {
      "text/plain": [
       "tensor([[2., 3., 1.],\n",
       "        [4., 5., 3.],\n",
       "        [7., 6., 4.]], requires_grad=True)"
      ]
     },
     "execution_count": 19,
     "metadata": {},
     "output_type": "execute_result"
    }
   ],
   "source": [
    "torch_input"
   ]
  },
  {
   "cell_type": "code",
   "execution_count": 25,
   "id": "c43fbeaf-da41-43ef-8411-99942e0b966d",
   "metadata": {},
   "outputs": [],
   "source": [
    "# y = x**3 + x**2\n",
    "# After derivation, y = 3x**2 + 2x\n",
    "y = torch_input**3 + torch_input**2"
   ]
  },
  {
   "cell_type": "code",
   "execution_count": 26,
   "id": "14348ff7-a188-4823-8c1f-f84169ba428e",
   "metadata": {},
   "outputs": [
    {
     "data": {
      "text/plain": [
       "tensor([[ 12.,  36.,   2.],\n",
       "        [ 80., 150.,  36.],\n",
       "        [392., 252.,  80.]], grad_fn=<AddBackward0>)"
      ]
     },
     "execution_count": 26,
     "metadata": {},
     "output_type": "execute_result"
    }
   ],
   "source": [
    "y"
   ]
  },
  {
   "cell_type": "code",
   "execution_count": 27,
   "id": "13e09bfb-7365-46d1-bb1b-44462b91e647",
   "metadata": {},
   "outputs": [],
   "source": [
    "z = y.sum()"
   ]
  },
  {
   "cell_type": "code",
   "execution_count": 28,
   "id": "f2650892-e605-41da-996c-73c9854bbed5",
   "metadata": {},
   "outputs": [
    {
     "data": {
      "text/plain": [
       "tensor(1040., grad_fn=<SumBackward0>)"
      ]
     },
     "execution_count": 28,
     "metadata": {},
     "output_type": "execute_result"
    }
   ],
   "source": [
    "z"
   ]
  },
  {
   "cell_type": "code",
   "execution_count": 24,
   "id": "eb5565c7-5942-4eef-924c-0207979aef4d",
   "metadata": {},
   "outputs": [],
   "source": [
    "z.backward()"
   ]
  },
  {
   "cell_type": "code",
   "execution_count": 29,
   "id": "2c98cfec-3973-4c30-b377-d889d5358958",
   "metadata": {},
   "outputs": [
    {
     "name": "stdout",
     "output_type": "stream",
     "text": [
      "tensor([[ 16.,  33.,   5.],\n",
      "        [ 56.,  85.,  33.],\n",
      "        [161., 120.,  56.]])\n"
     ]
    }
   ],
   "source": [
    "print(torch_input.grad)"
   ]
  },
  {
   "cell_type": "code",
   "execution_count": 32,
   "id": "13139fbc-e368-485f-9fc3-539d533262a9",
   "metadata": {},
   "outputs": [],
   "source": [
    "## How have we got these values?"
   ]
  },
  {
   "cell_type": "code",
   "execution_count": 30,
   "id": "a1869a2c-432c-42ec-a720-ff5fa0aabf41",
   "metadata": {},
   "outputs": [
    {
     "data": {
      "text/plain": [
       "16"
      ]
     },
     "execution_count": 30,
     "metadata": {},
     "output_type": "execute_result"
    }
   ],
   "source": [
    "3*2**2 + 2*2"
   ]
  },
  {
   "cell_type": "code",
   "execution_count": 31,
   "id": "fdc7a91f-7e2b-473b-9908-049618d8eda1",
   "metadata": {},
   "outputs": [
    {
     "data": {
      "text/plain": [
       "33"
      ]
     },
     "execution_count": 31,
     "metadata": {},
     "output_type": "execute_result"
    }
   ],
   "source": [
    "3*3**2 + 2*3"
   ]
  },
  {
   "cell_type": "code",
   "execution_count": null,
   "id": "0c2742e5-840a-48be-be97-1d4ced523eb1",
   "metadata": {},
   "outputs": [],
   "source": []
  }
 ],
 "metadata": {
  "kernelspec": {
   "display_name": "Python 3 (ipykernel)",
   "language": "python",
   "name": "python3"
  },
  "language_info": {
   "codemirror_mode": {
    "name": "ipython",
    "version": 3
   },
   "file_extension": ".py",
   "mimetype": "text/x-python",
   "name": "python",
   "nbconvert_exporter": "python",
   "pygments_lexer": "ipython3",
   "version": "3.9.13"
  }
 },
 "nbformat": 4,
 "nbformat_minor": 5
}
